{
 "cells": [
  {
   "cell_type": "code",
   "execution_count": 26,
   "metadata": {},
   "outputs": [],
   "source": [
    "#!/usr/bin/env py\n",
    "'''\n",
    "Set dependencies and python shebang\n",
    "'''\n",
    "from configpath import configpath  # Config path\n",
    "from configparser import ConfigParser  # Load config\n",
    "from psycopg2 import connect  # Connect to database\n",
    "import numpy as np  # Arrays for stats\n",
    "from sklearn.linear_model import LinearRegression  # Regression\n",
    "from sklearn.model_selection import train_test_split  # Train-test\n",
    "import matplotlib.pyplot as plt  # plotting\n",
    "%matplotlib inline\n",
    "plt.style.use('ggplot')\n"
   ]
  },
  {
   "cell_type": "code",
   "execution_count": 13,
   "metadata": {},
   "outputs": [],
   "source": [
    "def load_config(configpath, section):\n",
    "    '''\n",
    "    Use configparser to load the .ini file\n",
    "    '''\n",
    "    parser = ConfigParser()  # Create parser\n",
    "    parser.read(configpath)  # Read config ini file\n",
    "    config = {}  # Create empty dictionary for config\n",
    "    if parser.has_section(section):  # Look for 'config' section in config ini file\n",
    "        params = parser.items(section)  # Parse config ini file\n",
    "        for param in params:  # Loop through parameters\n",
    "            config[param[0]] = param[1]  # Set key-value pair for parameter in dictionary\n",
    "    else:  # Raise exception if the section can't be found\n",
    "        raise Exception(\n",
    "            'Section {0} not found in the {1} file'.format(section, configpath))\n",
    "    return config"
   ]
  },
  {
   "cell_type": "code",
   "execution_count": 14,
   "metadata": {},
   "outputs": [],
   "source": [
    "def create_connector(con_config, db_config):\n",
    "    '''\n",
    "    Create psycopg2 connector for database\n",
    "    '''\n",
    "    con = connect(database=db_config['dbname'], port=con_config['port'],\n",
    "                  user=con_config['user'], password=con_config['password'],\n",
    "                  host=con_config['host'])\n",
    "    return con"
   ]
  },
  {
   "cell_type": "code",
   "execution_count": 15,
   "metadata": {},
   "outputs": [],
   "source": [
    "def execute_query(con, query):\n",
    "    '''\n",
    "    Execute an inputted query on the connected database, fetch the result,\n",
    "    and return it\n",
    "    '''\n",
    "    try:\n",
    "        cur = con.cursor()\n",
    "        cur.execute(query)\n",
    "        result = cur.fetchall()\n",
    "        result = [item for t in result for item in t]  # Unpack tuples\n",
    "        cur.close()\n",
    "        return result\n",
    "    except:  # If there is an error, close cursor and reset connection\n",
    "        cur.close()\n",
    "        create_connector(con_config, db_config)"
   ]
  },
  {
   "cell_type": "code",
   "execution_count": 16,
   "metadata": {},
   "outputs": [],
   "source": [
    "def divide_chunks(l, n):\n",
    "    '''\n",
    "    Chunk list l into nested lists of size n.\n",
    "    '''\n",
    "    for i in range(0, len(l), n):  \n",
    "        yield l[i:i + n] "
   ]
  },
  {
   "cell_type": "code",
   "execution_count": 17,
   "metadata": {},
   "outputs": [],
   "source": [
    "'''\n",
    "Load configs and create connection object\n",
    "'''\n",
    "con_config = load_config(configpath, 'postgres_connection')  # Load postgres connection config\n",
    "db_config = load_config(configpath, 'createdb')  # Load database config\n",
    "con = create_connector(con_config, db_config)  # Create database connector"
   ]
  },
  {
   "cell_type": "code",
   "execution_count": 18,
   "metadata": {},
   "outputs": [],
   "source": [
    "'''\n",
    "Create linear model object and other necessary statistics objects\n",
    "'''\n",
    "lr = LinearRegression()"
   ]
  },
  {
   "cell_type": "code",
   "execution_count": 19,
   "metadata": {},
   "outputs": [],
   "source": [
    "'''\n",
    "Start with a simple analysis.\n",
    "Test whether there is a difference between elapsed tv time for weekdays vs. weekends.\n",
    "Query dataset, chunk rows into nested lists, and convert to numpy array.\n",
    "Innermost statement is the SQL query.\n",
    "Following that is the number of chunks, which is the number of variables fetched from the database.\n",
    "Next is to pack those observation-level lists into a master-list.\n",
    "The list of lists is then converted into a numpy array.\n",
    "Convert estimated time from ms to minutes.\n",
    "Contrast-code weekday/weekend. \n",
    "'''\n",
    "dataset = np.array(list(divide_chunks(execute_query(con, \"SELECT CAST(tv_data_sample.elapsed_time AS numeric), tv_data_sample.week_day_end FROM tv_data_sample;\"), 2)))\n",
    "dataset[:,1] = np.where(dataset[:,1]=='Weekday', 0.5, dataset[:,1])  # Contrast code weekday\n",
    "dataset[:,1] = np.where(dataset[:,1]=='Weekend', -0.5, dataset[:,1])  # Contrast code weekend\n",
    "dataset[:,0] = (dataset[:,0].astype(float)/1000)/60  # Convert elapsed time from ms to minutes"
   ]
  },
  {
   "cell_type": "code",
   "execution_count": 20,
   "metadata": {},
   "outputs": [
    {
     "name": "stdout",
     "output_type": "stream",
     "text": [
      "There are 354086 Weekday observations\n",
      "Mean Weekday elapsed time is 15.79\n",
      "Standard deviation Weekday elapsed time is 20.63\n",
      "\n",
      "There are 145919 Weekday observations\n",
      "Mean Weekend elapsed time is 18.04\n",
      "Standard deviation Weekend elapsed time is 25.68\n"
     ]
    },
    {
     "data": {
      "image/png": "[encoded data removed]",
      "text/plain": [
       "<Figure size 432x288 with 1 Axes>"
      ]
     },
     "metadata": {},
     "output_type": "display_data"
    }
   ],
   "source": [
    "'''\n",
    "Descriptive stats and data visualization.\n",
    "'''\n",
    "print(\"There are \" + str(dataset[np.where(dataset[:,1] == 0.5),0].size) + \" Weekday observations\")\n",
    "print(\"Mean Weekday elapsed time is \" + str(round(dataset[np.where(dataset[:,1] == 0.5),0].mean(), 2)))\n",
    "print(\"Standard deviation Weekday elapsed time is \" + str(round(dataset[np.where(dataset[:,1] == 0.5),0].std(), 2)))\n",
    "print(\"\")\n",
    "print(\"There are \" + str(dataset[np.where(dataset[:,1] == -0.5),0].size) + \" Weekday observations\")\n",
    "print(\"Mean Weekend elapsed time is \" + str(round(dataset[np.where(dataset[:,1] == -0.5),0].mean(), 2)))\n",
    "print(\"Standard deviation Weekend elapsed time is \" + str(round(dataset[np.where(dataset[:,1] == -0.5),0].std(), 2)))\n",
    "\n",
    "\n",
    "x_labels = ['Weekday', 'Weekend']\n",
    "y_means = [dataset[np.where(dataset[:,1] == 0.5),0].mean(), dataset[np.where(dataset[:,1] == -0.5),0].mean()]\n",
    "errors = [dataset[np.where(dataset[:,1] == 0.5),0].std(), dataset[np.where(dataset[:,1] == -0.5),0].std()]\n",
    "\n",
    "x_pos = [i for i, _ in enumerate(x_labels)]\n",
    "\n",
    "plt.bar(x_pos, y_means, yerr=errors, color='green')\n",
    "plt.xlabel(\"Weekday_end\")\n",
    "plt.ylabel(\"Elapsed_time in minutes\")\n",
    "plt.title(\"Difference in elapsed TV time for weekdays vs weekends\")\n",
    "\n",
    "plt.xticks(x_pos, x_labels)\n",
    "\n",
    "plt.show()\n"
   ]
  },
  {
   "cell_type": "code",
   "execution_count": 47,
   "metadata": {},
   "outputs": [
    {
     "name": "stdout",
     "output_type": "stream",
     "text": [
      "Intercept: 0.22369235203922497\n",
      "Slope: [-0.00093548]\n",
      "R^2 Explained Variance Train set: 0.0020877638527766473\n",
      "R^2 Explained Variance Test set: 0.0022436543143231624\n"
     ]
    }
   ],
   "source": [
    "'''\n",
    "Test whether there is a difference between elapsed tv time for weekdays vs. weekends.\n",
    "Create linear model with 80% test, 20% train. (This may be overkill for a simple model, but just as a demonstration /\n",
    "arguably best practice to test for overfit and other performance measures)\n",
    "Use model to make prediction for test set.\n",
    "'''\n",
    "\n",
    "X_train, X_test, y_train, y_test = train_test_split(dataset[:,0].reshape(-1,1), dataset[:,1], test_size=0.2, random_state=0)\n",
    "\n",
    "lr.fit(X_train, y_train, sample_weight=None)\n",
    "\n",
    "y_pred = lr.predict(X_test)\n",
    "\n",
    "print(\"Intercept: \" + str(lr.intercept_))\n",
    "print(\"Slope: \" + str(lr.coef_))\n",
    "print(\"R^2 Explained Variance Train set: \" + str(lr.score(X_train, y_train)))\n",
    "print(\"R^2 Explained Variance Test set: \" + str(lr.score(X_test, y_test)))\n",
    "\n",
    "'''\n",
    "These results suggest that whether or not it is a weekday vs. a weekend explains only a small amount\n",
    "of variance in elapsed time watching TV. On weekdays, people watched ~0.0009 minutes less TV than on weekends.\n",
    "'''"
   ]
  },
  {
   "cell_type": "code",
   "execution_count": null,
   "metadata": {},
   "outputs": [],
   "source": [
    "'''\n",
    "Query dataset for analyses, chunk rows into nested lists, and convert to a numpy array.\n",
    "'''\n",
    "dataset = np.array(list(divide_chunks(execute_query(con, \"SELECT CAST(tv_data_sample.elapsed_time AS numeric), CAST(tv_data_sample.show_duration AS numeric), tv_data_sample.week_day_end, CAST(app_data_sample.total_minutes AS numeric) AS appmins, CAST(web_data_sample.total_minutes AS numeric) AS webmins FROM tv_data_sample INNER JOIN app_data_sample ON tv_data_sample.users_meta_id = app_data_sample.users_meta_id INNER JOIN web_data_sample ON tv_data_sample.users_meta_id = web_data_sample.users_meta_id;\"), 5)))\n",
    "dataset[:,2] = np.where(dataset[:,2]=='Weekday', 0.5, dataset[:,2])  # Contrast code weekday\n",
    "dataset[:,2] = np.where(dataset[:,2]=='Weekend', -0.5, dataset[:,2])  # Contrast code weekend\n",
    "dataset[:,0] = (dataset[:,0]/1000)/60  # Convert elapsed time from ms to minutes\n",
    "dataset[:,1] = (dataset[:,1]/1000)/60  # Convert show duration from ms to minutes\n",
    "dataset[:,0] = dataset[:,0].astype(int)  # Convert numeric data to int\n",
    "dataset[:,1] = dataset[:,1].astype(int)\n",
    "dataset[:,3] = dataset[:,3].astype(int)\n",
    "dataset[:,4] = dataset[:,4].astype(int)"
   ]
  },
  {
   "cell_type": "code",
   "execution_count": null,
   "metadata": {},
   "outputs": [],
   "source": [
    "'''\n",
    "Run correlation as a linear model\n",
    "'''\n",
    "lr.fit(appmins, webmins)"
   ]
  },
  {
   "cell_type": "code",
   "execution_count": null,
   "metadata": {},
   "outputs": [],
   "source": [
    "'''\n",
    "Set up data table\n",
    "'''\n",
    "params = np.append(lr.intercept_, lr.coef_)\n",
    "predictions = lr.predict(appmins)\n",
    "new_appmins = np.append(np.ones((len(appmins), 1)), appmins, axis=1)\n",
    "MSE = (sum((webmins-predictions)**2))/(len(new_appmins)-len(new_appmins[0]))\n",
    "var_b = MSE*(np.linalg.inv(np.dot(new_appmins.T, new_appmins)).diagonal())\n",
    "sd_b = np.sqrt(var_b)\n",
    "ts_b = params / sd_b\n",
    "p_values = [2*(1-stats.t.cdf(np.abs(i),(len(new_appmins)-1))) for i in ts_b]\n",
    "sd_b = np.round(sd_b,3)\n",
    "ts_b = np.round(ts_b,3)\n",
    "p_values = np.round(p_values,3)\n",
    "params = np.round(params,4)\n"
   ]
  },
  {
   "cell_type": "code",
   "execution_count": null,
   "metadata": {},
   "outputs": [],
   "source": []
  },
  {
   "cell_type": "code",
   "execution_count": null,
   "metadata": {},
   "outputs": [],
   "source": []
  },
  {
   "cell_type": "code",
   "execution_count": null,
   "metadata": {},
   "outputs": [],
   "source": []
  }
 ],
 "metadata": {
  "kernelspec": {
   "display_name": "Python 3",
   "language": "python",
   "name": "python3"
  },
  "language_info": {
   "codemirror_mode": {
    "name": "ipython",
    "version": 3
   },
   "file_extension": ".py",
   "mimetype": "text/x-python",
   "name": "python",
   "nbconvert_exporter": "python",
   "pygments_lexer": "ipython3",
   "version": "3.7.0"
  }
 },
 "nbformat": 4,
 "nbformat_minor": 2
}
