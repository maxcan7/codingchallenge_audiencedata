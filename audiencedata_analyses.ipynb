{
 "cells": [
  {
   "cell_type": "code",
   "execution_count": 1,
   "metadata": {},
   "outputs": [
    {
     "data": {
      "text/plain": [
       "'\\nThis is a sample analysis for the audience dataset from this pipeline.\\nI tested a simple analysis, the effect of Weekdays vs. Weekends on\\nelapsed time spent watching TV. The analysis was performed as a\\nsimple linear regression, broken into a train set and test set, \\nwhere the predictor weekday vs. weekend was contrast coded, and\\nthe outcome variable, elapsed time was measured in minutes.\\n'"
      ]
     },
     "execution_count": 1,
     "metadata": {},
     "output_type": "execute_result"
    }
   ],
   "source": [
    "'''\n",
    "This is a sample analysis for the audience dataset from this pipeline.\n",
    "I tested a simple analysis, the effect of Weekdays vs. Weekends on\n",
    "elapsed time spent watching TV. The analysis was performed as a\n",
    "simple linear regression, broken into a train set and test set, \n",
    "where the predictor weekday vs. weekend was contrast coded, and\n",
    "the outcome variable, elapsed time was measured in minutes.\n",
    "\n",
    "I provided an additional, more sophisticated analysis, a multiple\n",
    "regression with ridge regularization. However, due to time and\n",
    "computational limitations this analysis is more a proof of concept,\n",
    "using only a subset of the full sample.\n",
    "'''"
   ]
  },
  {
   "cell_type": "code",
   "execution_count": 45,
   "metadata": {},
   "outputs": [
    {
     "data": {
      "text/plain": [
       "'\\nAnalysis Code Requirements\\npython3\\nConfigParser\\npsycopg2\\nnumpy\\nsklearn\\nmatplotlib\\n'"
      ]
     },
     "execution_count": 45,
     "metadata": {},
     "output_type": "execute_result"
    }
   ],
   "source": [
    "'''\n",
    "Analysis Code Requirements\n",
    "python3\n",
    "ConfigParser\n",
    "psycopg2\n",
    "numpy\n",
    "sklearn\n",
    "matplotlib\n",
    "'''"
   ]
  },
  {
   "cell_type": "code",
   "execution_count": 2,
   "metadata": {},
   "outputs": [],
   "source": [
    "#!/usr/bin/env py\n",
    "'''\n",
    "Set dependencies and python shebang\n",
    "'''\n",
    "from configpath import configpath  # Config path\n",
    "from configparser import ConfigParser  # Load config\n",
    "from psycopg2 import connect  # Connect to database\n",
    "import numpy as np  # Arrays for stats\n",
    "from sklearn.linear_model import LinearRegression  # Linear Regression\n",
    "from sklearn.linear_model import Ridge  # Ridge Regression\n",
    "from sklearn.model_selection import train_test_split  # Train-test\n",
    "import matplotlib.pyplot as plt  # plotting\n",
    "%matplotlib inline\n",
    "plt.style.use('ggplot')\n"
   ]
  },
  {
   "cell_type": "code",
   "execution_count": 3,
   "metadata": {},
   "outputs": [],
   "source": [
    "def load_config(configpath, section):\n",
    "    '''\n",
    "    Use configparser to load the .ini file\n",
    "    '''\n",
    "    parser = ConfigParser()  # Create parser\n",
    "    parser.read(configpath)  # Read config ini file\n",
    "    config = {}  # Create empty dictionary for config\n",
    "    if parser.has_section(section):  # Look for 'config' section in config ini file\n",
    "        params = parser.items(section)  # Parse config ini file\n",
    "        for param in params:  # Loop through parameters\n",
    "            config[param[0]] = param[1]  # Set key-value pair for parameter in dictionary\n",
    "    else:  # Raise exception if the section can't be found\n",
    "        raise Exception(\n",
    "            'Section {0} not found in the {1} file'.format(section, configpath))\n",
    "    return config"
   ]
  },
  {
   "cell_type": "code",
   "execution_count": 4,
   "metadata": {},
   "outputs": [],
   "source": [
    "def create_connector(con_config, db_config):\n",
    "    '''\n",
    "    Create psycopg2 connector for database\n",
    "    '''\n",
    "    con = connect(database=db_config['dbname'], port=con_config['port'],\n",
    "                  user=con_config['user'], password=con_config['password'],\n",
    "                  host=con_config['host'])\n",
    "    return con"
   ]
  },
  {
   "cell_type": "code",
   "execution_count": 5,
   "metadata": {},
   "outputs": [],
   "source": [
    "def execute_query(con, query):\n",
    "    '''\n",
    "    Execute an inputted query on the connected database, fetch the result,\n",
    "    and return it\n",
    "    '''\n",
    "    try:\n",
    "        cur = con.cursor()\n",
    "        cur.execute(query)\n",
    "        result = cur.fetchall()\n",
    "        result = [item for t in result for item in t]  # Unpack tuples\n",
    "        cur.close()\n",
    "        return result\n",
    "    except:  # If there is an error, close cursor and reset connection\n",
    "        cur.close()\n",
    "        create_connector(con_config, db_config)"
   ]
  },
  {
   "cell_type": "code",
   "execution_count": 6,
   "metadata": {},
   "outputs": [],
   "source": [
    "def divide_chunks(l, n):\n",
    "    '''\n",
    "    Chunk list l into nested lists of size n.\n",
    "    '''\n",
    "    for i in range(0, len(l), n):  \n",
    "        yield l[i:i + n] "
   ]
  },
  {
   "cell_type": "code",
   "execution_count": 7,
   "metadata": {},
   "outputs": [],
   "source": [
    "'''\n",
    "Load configs and create connection object\n",
    "'''\n",
    "con_config = load_config(configpath, 'postgres_connection')  # Load postgres connection config\n",
    "db_config = load_config(configpath, 'createdb')  # Load database config\n",
    "con = create_connector(con_config, db_config)  # Create database connector"
   ]
  },
  {
   "cell_type": "code",
   "execution_count": 8,
   "metadata": {},
   "outputs": [],
   "source": [
    "'''\n",
    "Create linear model object and other necessary statistics objects\n",
    "'''\n",
    "lr = LinearRegression()\n",
    "rr = Ridge(alpha=1.0)"
   ]
  },
  {
   "cell_type": "code",
   "execution_count": 9,
   "metadata": {},
   "outputs": [],
   "source": [
    "'''\n",
    "Start with a simple analysis.\n",
    "Test whether there is a difference between elapsed tv time for weekdays vs. weekends.\n",
    "Query dataset, chunk rows into nested lists, and convert to numpy array.\n",
    "Innermost statement is the SQL query.\n",
    "Following that is the number of chunks, which is the number of variables fetched from the database.\n",
    "Next is to pack those observation-level lists into a master-list.\n",
    "The list of lists is then converted into a numpy array.\n",
    "Convert estimated time from ms to minutes.\n",
    "Contrast-code weekday/weekend. \n",
    "'''\n",
    "dataset = np.array(list(divide_chunks(execute_query(con, \"SELECT CAST(tv_data_sample.elapsed_time AS numeric), tv_data_sample.week_day_end FROM tv_data_sample;\"), 2)))\n",
    "dataset[:,1] = np.where(dataset[:,1]=='Weekday', 0.5, dataset[:,1])  # Contrast code weekday\n",
    "dataset[:,1] = np.where(dataset[:,1]=='Weekend', -0.5, dataset[:,1])  # Contrast code weekend\n",
    "dataset[:,0] = (dataset[:,0].astype(float)/1000)/60  # Convert elapsed time from ms to minutes"
   ]
  },
  {
   "cell_type": "code",
   "execution_count": 10,
   "metadata": {},
   "outputs": [
    {
     "name": "stdout",
     "output_type": "stream",
     "text": [
      "There are 354086 Weekday observations\n",
      "Mean Weekday elapsed time is 15.79\n",
      "Standard deviation Weekday elapsed time is 20.63\n",
      "\n",
      "There are 145919 Weekday observations\n",
      "Mean Weekend elapsed time is 18.04\n",
      "Standard deviation Weekend elapsed time is 25.68\n",
      "\n",
      "There appears to be an imbalanced N for weekends vs weekdays. For now they will be left as-is.\n"
     ]
    },
    {
     "data": {
      "image/png": "[encoded data removed]",
      "text/plain": [
       "<Figure size 432x288 with 1 Axes>"
      ]
     },
     "metadata": {
      "needs_background": "light"
     },
     "output_type": "display_data"
    }
   ],
   "source": [
    "'''\n",
    "Descriptive stats and data visualization.\n",
    "'''\n",
    "print(\"There are \" + str(dataset[np.where(dataset[:,1] == 0.5),0].size) + \" Weekday observations\")\n",
    "print(\"Mean Weekday elapsed time is \" + str(round(dataset[np.where(dataset[:,1] == 0.5),0].mean(), 2)))\n",
    "print(\"Standard deviation Weekday elapsed time is \" + str(round(dataset[np.where(dataset[:,1] == 0.5),0].std(), 2)))\n",
    "print(\"\")\n",
    "print(\"There are \" + str(dataset[np.where(dataset[:,1] == -0.5),0].size) + \" Weekday observations\")\n",
    "print(\"Mean Weekend elapsed time is \" + str(round(dataset[np.where(dataset[:,1] == -0.5),0].mean(), 2)))\n",
    "print(\"Standard deviation Weekend elapsed time is \" + str(round(dataset[np.where(dataset[:,1] == -0.5),0].std(), 2)))\n",
    "print(\"\")\n",
    "print(\"There appears to be an imbalanced N for weekends vs weekdays. For now they will be left as-is.\")\n",
    "\n",
    "x_labels = ['Weekday', 'Weekend']\n",
    "y_means = [dataset[np.where(dataset[:,1] == 0.5),0].mean(), dataset[np.where(dataset[:,1] == -0.5),0].mean()]\n",
    "errors = [dataset[np.where(dataset[:,1] == 0.5),0].std(), dataset[np.where(dataset[:,1] == -0.5),0].std()]\n",
    "\n",
    "x_pos = [i for i, _ in enumerate(x_labels)]\n",
    "\n",
    "plt.bar(x_pos, y_means, yerr=errors, color='green')\n",
    "plt.xlabel(\"Weekday_end\")\n",
    "plt.ylabel(\"Elapsed_time in minutes\")\n",
    "plt.title(\"Difference in elapsed TV time for weekdays vs weekends\")\n",
    "\n",
    "plt.xticks(x_pos, x_labels)\n",
    "\n",
    "plt.show()\n"
   ]
  },
  {
   "cell_type": "code",
   "execution_count": 12,
   "metadata": {},
   "outputs": [
    {
     "name": "stdout",
     "output_type": "stream",
     "text": [
      "Intercept: 16.906826924770748\n",
      "Slope: [-2.25475838]\n",
      "R^2 Explained Variance Train set: 0.0021245651677536115\n",
      "Model Performance: 0.21% Accuracy\n",
      "These results suggest that whether or not it is a weekday vs. a weekend explains only a small amount of variance in elapsed time watching TV. On weekdays, people watched ~2.2 minutes less TV than on weekends.\n",
      "While model performance accuracy on the test set was low, it was consistent with the explained variance of the training set, which does not suggest that the model was ill-fit for the test set.\n"
     ]
    }
   ],
   "source": [
    "'''\n",
    "Test whether there is a difference between elapsed tv time for weekdays vs. weekends.\n",
    "Create linear model with 80% test, 20% train. (This may be overkill for a simple model, but just as a demonstration /\n",
    "arguably best practice to test for overfit and performance)\n",
    "Use model to make prediction for test set.\n",
    "'''\n",
    "\n",
    "X_train, X_test, y_train, y_test = train_test_split(dataset[:,1].reshape(-1,1), dataset[:,0], test_size=0.2, random_state=0)\n",
    "\n",
    "lr.fit(X_train, y_train, sample_weight=None)\n",
    "\n",
    "y_pred = lr.predict(X_test)\n",
    "\n",
    "print(\"Intercept: \" + str(lr.intercept_))\n",
    "print(\"Slope: \" + str(lr.coef_))\n",
    "print(\"R^2 Explained Variance Train set: \" + str(lr.score(X_train, y_train)))\n",
    "print(\"Model Performance: \" + str(round(lr.score(X_test, y_test)*100,2)) + \"% Accuracy\")\n",
    "print(\"These results suggest that whether or not it is a weekday vs. a weekend explains only a small amount of variance in elapsed time watching TV. On weekdays, people watched ~2.2 minutes less TV than on weekends.\")\n",
    "print(\"While model performance accuracy on the test set was low, it was consistent with the explained variance of the training set, which does not suggest that the model was ill-fit for the test set.\")"
   ]
  },
  {
   "cell_type": "code",
   "execution_count": 13,
   "metadata": {},
   "outputs": [
    {
     "data": {
      "image/png": "[encoded data removed]",
      "text/plain": [
       "<Figure size 432x288 with 1 Axes>"
      ]
     },
     "metadata": {
      "needs_background": "light"
     },
     "output_type": "display_data"
    },
    {
     "name": "stdout",
     "output_type": "stream",
     "text": [
      "This plot shows the datapoints for elapsed time for weekends vs weekdays, similar to the bar graph but showing all observations in a scatterplot.\n",
      "The blue line shows the model prediction, the least squares line of best fit.\n",
      "It appears there may have been some outliers. Future analyses should correct for outliers.\n"
     ]
    }
   ],
   "source": [
    "# Plot outputs\n",
    "plt.scatter(X_test, y_test,  color='black')\n",
    "plt.plot(X_test, y_pred, color='blue', linewidth=3)\n",
    "\n",
    "plt.xlabel(\"Weekday_end\")\n",
    "plt.ylabel(\"Elapsed_time in minutes\")\n",
    "plt.title(\"Difference in elapsed TV time for weekdays vs weekends\")\n",
    "\n",
    "plt.show()\n",
    "\n",
    "print(\"This plot shows the datapoints for elapsed time for weekends vs weekdays, similar to the bar graph but showing all observations in a scatterplot.\")\n",
    "print(\"The blue line shows the model prediction, the least squares line of best fit.\")\n",
    "print(\"It appears there may have been some outliers. Future analyses should correct for outliers.\")"
   ]
  },
  {
   "cell_type": "code",
   "execution_count": 18,
   "metadata": {},
   "outputs": [],
   "source": [
    "'''\n",
    "This is a somewhat more sophisticated analysis. It controls for show duration, as well as total minutes spent on apps and\n",
    "total minutes spent on the web, which were joined from the app_data_sample and web_data_sample, respectively. Additionally,\n",
    "this model includes a ridge regularization parameter. The full data were too large for my computer, so I grabbed just a subset.\n",
    "'''\n",
    "dataset = np.array(list(divide_chunks(execute_query(con, \"SELECT CAST(tv_data_sample.elapsed_time AS numeric), tv_data_sample.week_day_end, CAST(tv_data_sample.show_duration AS numeric), CAST(app_data_sample.total_minutes AS numeric) AS appmins, CAST(web_data_sample.total_minutes AS numeric) AS webmins FROM tv_data_sample INNER JOIN app_data_sample ON tv_data_sample.users_meta_id = app_data_sample.users_meta_id INNER JOIN web_data_sample ON tv_data_sample.users_meta_id = web_data_sample.users_meta_id LIMIT 10000;\"), 5)))\n",
    "dataset[:,1] = np.where(dataset[:,1]=='Weekday', 0.5, dataset[:,1])  # Contrast code weekday\n",
    "dataset[:,1] = np.where(dataset[:,1]=='Weekend', -0.5, dataset[:,1])  # Contrast code weekend\n",
    "dataset[:,0] = (dataset[:,0].astype(float)/1000)/60  # Convert elapsed time from ms to minutes\n",
    "dataset[:,2] = (dataset[:,2].astype(float)/1000)/60  # Convert show_duration from ms to minutes"
   ]
  },
  {
   "cell_type": "code",
   "execution_count": 44,
   "metadata": {},
   "outputs": [
    {
     "name": "stdout",
     "output_type": "stream",
     "text": [
      "Intercept: -15.052599291574863\n",
      "Slope: [-4.21990786  0.48674014 -0.07303999 -0.98998913]\n",
      "R^2 Explained Variance Train set: 0.47286918519134996\n",
      "Model Performance: 44.96% Accuracy\n",
      "\n",
      "Compared to the simple linear regression, this ridge multiple regression provides better model performance.\n",
      "This model explains 47% of the variance in the training set, and had ~45% performance accuracy for the test set.\n",
      "This model predicts a ~4.22 minute decrease in average elapsed tv time for weekdays compared to weekends.\n",
      "This is controlling for show duration, time in minutes spent on apps, and time in minutes spent on the web, none of which appear to have large effects.\n"
     ]
    }
   ],
   "source": [
    "'''\n",
    "Run ridge regression\n",
    "'''\n",
    "X_train, X_test, y_train, y_test = train_test_split(dataset[:,1:].reshape(dataset[:,1:].size//4,4), dataset[:,0], test_size=0.2, random_state=0)\n",
    "\n",
    "rr.fit(X_train, y_train, sample_weight=None)\n",
    "\n",
    "y_pred = rr.predict(X_test)\n",
    "\n",
    "print(\"Intercept: \" + str(rr.intercept_))\n",
    "print(\"Slope: \" + str(rr.coef_))\n",
    "print(\"R^2 Explained Variance Train set: \" + str(rr.score(X_train, y_train)))\n",
    "print(\"Model Performance: \" + str(round(rr.score(X_test, y_test)*100,2)) + \"% Accuracy\")\n",
    "print(\"\")\n",
    "print(\"Compared to the simple linear regression, this ridge multiple regression provides better model performance.\")\n",
    "print(\"This model explains 47% of the variance in the training set, and had ~45% performance accuracy for the test set.\")\n",
    "print(\"This model predicts a ~4.22 minute decrease in average elapsed tv time for weekdays compared to weekends.\")\n",
    "print(\"This is controlling for show duration, time in minutes spent on apps, and time in minutes spent on the web, none of which appear to have large effects.\")"
   ]
  },
  {
   "cell_type": "code",
   "execution_count": null,
   "metadata": {},
   "outputs": [],
   "source": []
  }
 ],
 "metadata": {
  "kernelspec": {
   "display_name": "Python 3",
   "language": "python",
   "name": "python3"
  },
  "language_info": {
   "codemirror_mode": {
    "name": "ipython",
    "version": 3
   },
   "file_extension": ".py",
   "mimetype": "text/x-python",
   "name": "python",
   "nbconvert_exporter": "python",
   "pygments_lexer": "ipython3",
   "version": "3.7.0"
  }
 },
 "nbformat": 4,
 "nbformat_minor": 2
}
